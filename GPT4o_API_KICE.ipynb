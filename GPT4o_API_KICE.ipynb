{
  "cells": [
    {
      "cell_type": "markdown",
      "metadata": {
        "id": "wUk08smFpXCJ"
      },
      "source": [
        "# GPT4o API로 2023 수능 국어 풀어보기\n",
        "\n",
        "미완성인 관계로 구현한 부분까지만 제출하겠습니다!\n",
        "\n",
        "1. 데이터 파악\n",
        "\n",
        "2. 테스트 설계\n",
        "- 1) 데이터를 어떻게 가공할 것인가?\n",
        "    - 1-1. 지문 + 꼬리 문제 형태로 가공한다.\n",
        "    - 1-2. 각 꼬리 문제의 5개 선지 시작 부분에 번호를 추가한다('[1]' + 기존 선지내용).\n",
        "\n",
        "- 2) 프롬프트를 어떻게 넣을 것인가?\n",
        "    - 2-1. Parsing을 위한 프롬프팅\n",
        "        - 추론 과정 요구 프롬프트 + 정답 요구 프롬프트        \n",
        "        - [solve]number[/solve] 로 요구한다. (예를 들어 [solve]3[/solve])        \n",
        "    \n",
        "    - 2-2. 정답률을 높이기 위한 프롬프팅\n",
        "        - 문제당 두 번의 문제 풀이를 독립적으로 진행한다.\n",
        "        - 한 번은 zero-shot-CoT, 또 한 번은 plan-and-solve 를 적용하여 논리적 추론을 유도한다.\n",
        "        - CoT 와 plan-and-solve에서 최종 도출한 정답이 동일할 경우 이를 제출하는 것으로 간주한다.\n",
        "        - 정답이 다를 경우, 각 추론 기록을 참고하여 마지막 결정을 하는 추가 문제 풀이를 한다.\n",
        "\n",
        "- 3) 정확도를 어떻게 측정할 것인가?\n",
        "        - 문제 풀이마다 즉시 채점을 하고 정답일 시 total_score에 합산한다.\n",
        "    \n",
        "\n",
        "3. 구현\n",
        "- 하나의 문제에 대해서 GPT-4의 예측 결과를 내놓는 함수를 `def prediction(problem)`이라는 signature로 만든다.\n",
        "- `problem`은 json 형태의 문제.\n",
        "- `def prediction` 함수를 모든 수능 국어 문제들에 대해서 돌린 후, 실제 정답과 비교하여 GPT-4의 점수를 계산하는 코드를 구현한다."
      ]
    },
    {
      "cell_type": "markdown",
      "metadata": {},
      "source": [
        "# [MY CODE] 데이터 파악\n",
        "간단한 데이터로 진행하는 실습이므로, 별도의 파일에 준비한 json 데이터를 직접 참조하여 진행합니다.\n",
        "\n",
        "[데이터 설명]\n",
        "- id: 문제 지문의 id\n",
        "- pragraph: 문제 지문\n",
        "- type: 지문 타입 (화법과 작문, 문학, 비문학 등..)\n",
        "- problems: 문제 정보들\n",
        "    - question: 질문\n",
        "    - choices: 보기(5개)\n",
        "    - answer: 정답\n",
        "    - score: 배점"
      ]
    },
    {
      "cell_type": "code",
      "execution_count": 61,
      "metadata": {},
      "outputs": [
        {
          "name": "stdout",
          "output_type": "stream",
          "text": [
            "{'id': '2023_11_KICE_1-3', 'paragraph': '사람들이 지속적으로 책을 읽는 이유 중 하나는 즐거움이다. 독서의 즐거움에는 여러 가지가 있겠지만 그 중심에는 ‘소통의 즐거움’이 있다.독자는 독서를 통해 책과 소통하는 즐거움을 경험한다. 독서는필자와 간접적으로 대화하는 소통 행위이다. 독자는 자신이 속한사회나 시대의 영향 아래 필자가 속해 있거나 드러내고자 하는 사회나 시대를 경험한다. 직접 경험하지 못했던 다양한 삶을 필자를 매개로 만나고 이해하면서 독자는 더 넓은 시야로 세계를바라볼 수 있다. 이때 같은 책을 읽은 독자라도 독자의 배경지식이나 관점 등의 독자 요인, 읽기 환경이나 과제 등의 상황 요인이 다르므로, 필자가 보여 주는 세계를 그대로 수용하지 않고 저마다 소통 과정에서 다른 의미를 구성할 수 있다.[A] (이러한 소통은 독자가 책의 내용에 대해 질문하고 답을 찾아내는 과정에서 가능해진다. 독자는 책에서 답을 찾는 질문, 독자 자신에게서 답을 찾는 질문 등을 제기할 수 있다. 전자의 경우 책에 명시된 내용에서 답을 발견할 수 있고, 책의 내용들을 관계 지으며 답에 해당하는 내용을 스스로 구성할 수도 있다. 또한 후자의 경우 책에는 없는 독자의 경험에서 답을 찾을 수 있다. 이런 질문들을 풍부히 생성하고 주체적으로 답을 찾을 때 소통의 즐거움은 더 커진다.)한편 독자는 ㉠ (다른 독자와 소통하는 즐거움을 경험할 수도 있다.) 책과의 소통을 통해 개인적으로 형성한 의미를 독서 모임이나 독서 동아리 등에서 다른 독자들과 나누는 일이 이에 해당한다. 비슷한 해석에 서로 공감하며 기존 인식을 강화하거나 관점의 차이를 확인하고 기존 인식을 조정하는 과정에서, 독자는자신의 인식을 심화 확장할 수 있다. 최근 소통 공간이 온라인으로 확대되면서 독서를 통해 다른 독자들과 소통하며 즐거움을누리는 양상이 더 다양해지고 있다. 자신의 독서 경험을 담은 글이나 동영상을 생산 공유함으로써, 책을 읽지 않은 타인이 책과 소통하도록 돕는 것도 책을 통한 소통의 즐거움을 나누는 일이다.', 'type': 0, 'problems': [{'question': '윗글의 내용과 일치하지 않는 것은?', 'choices': ['같은 책을 읽은 독자라도 서로 다른 의미를 구성할 수 있다.', '다른 독자와의 소통은 독자가 인식의 폭을 확장하도록 돕는다', '독자는 직접 경험해 보지 못했던 다양한 삶을 책의 필자를 매개로 접할 수 있다.', '독자의 배경지식, 관점, 읽기 환경, 과제는 독자의 의미 구성에 영향을 주는 독자 요인이다.', '독자는 책을 읽을 때 자신이 속한 사회나 시대의 영향을 받으며 필자와 간접적으로 대화한다'], 'answer': 4, 'score': 2}, {'question': '다음은 학생이 독서 후 작성한 글의 일부이다. [A]를 바탕으로 ⓐ～ⓔ를 이해한 내용으로 가장 적절한 것은?', 'question_plus': \"ⓐ('음악 시간에 들었던 베토벤의 교향곡 <합창>이 위대한 작품인 이유는 무엇일까?'하는 생각)에, 베토벤에 대한 책을 빌렸다. 책에서는 기약만으로 구성됐던 교향곡에 성악을 결합헤 개성을 드러냈다는 점에서 ⓑ(이 곡이 낭만주의 음악의 특징을 보여 준다고 했다.) <합창>을 해설한 부분에 이어, 베토벤의 생애에 관한 뒷부분도 읽었는데, ⓒ(이 내용들을 종합해, 절망적 상황에서도 열정적으로 자신이 좋아하는 일을 했기에 교향곡 구성의 새로움을 보여 준 명작이 탄생했음을 알게 됐다.) 이후 ⓓ(내가 진정으로 좋아하는 일이 무엇인지 나에게 묻게 되었다.) ⓔ(글 쓰는 일에서 가장 큰 행복을 느꼈던 나를 발견)할 수 있었고, 나도 어떤 상황에서든 좋아하는 일을 계속해야겠다고 생각했다.\", 'choices': ['ⓐ와 ⓑ에는 모두 ‘독자 자신에게서 답을 찾는 질문’이 나타난다.', 'ⓒ와 ⓓ에는 모두 ‘책에 명시된 내용’에서 질문의 답을 찾아내는 모습이 나타난다.', 'ⓐ에는 ‘책에서 답을 찾는 질문’이, ⓔ에는 그에 대한 답을 ‘독자의 경험’에서 찾아내는 모습이 나타난다.', 'ⓑ에는 ‘책에서 답을 찾는 질문’이, ⓒ에는 그에 대한 답을 ‘책의 내용들을 관계 지으며’ 찾아내는 모습이 나타난다.', 'ⓓ에는 ‘독자 자신에게서 답을 찾는 질문’이, ⓔ에는 그에 대한 답을 ‘독자의 경험’에서 찾아내는 모습이 나타난다.'], 'answer': 5, 'score': 3}, {'question': '윗글을 읽고 ㉠에 대해 보인 반응으로 적절하지 않은 것은?', 'choices': ['스스로 독서 계획을 세우고 자신에게 필요한 책을 찾아 개인적으로 읽는 과정에서 경험할 수 있겠군.', '독서 모임에서 서로 다른 관점을 확인하고 자신의 관점을 조정하는 과정에서 경험할 수 있겠군.', '개인적으로 형성한 의미를, 독서 동아리를 통해 심화하는 과정에서 경험할 수 있겠군.', '자신의 독서 경험을 담은 콘텐츠를 생산하고 공유하는 과정에서 경험할 수 있겠군.', '오프라인뿐 아니라 온라인 공간에서 해석을 나누는 과정에서도 경험할 수 있겠군.'], 'answer': 1, 'score': 2}]} \n",
            "\n",
            "dict_keys(['id', 'paragraph', 'type', 'problems']) \n",
            "\n",
            "dict_keys(['question', 'choices', 'answer', 'score'])\n"
          ]
        }
      ],
      "source": [
        "import data\n",
        "\n",
        "print(data.kice_data_2023[0],'\\n')\n",
        "print(data.kice_data_2023[0].keys(),'\\n')\n",
        "print(data.kice_data_2023[0]['problems'][0].keys())"
      ]
    },
    {
      "cell_type": "markdown",
      "metadata": {},
      "source": [
        "# [MY CODE] 데이터 가공\n",
        "1. 데이터를 어떻게 가공할 것인가?\n",
        "    - 지문 + 꼬리 문제 형태로 가공한다.\n",
        "        - 예를 들어 지문 하나에 꼬리 문제 2개라면, '지문 + 꼬리 문제1 + 보기 5개', '지문 + 꼬리 문제2 + 보기 5개'로 각각 나눈다.\n",
        "    - choices의 각 선지 첫 부분에 번호를 추가한다('[1]' + 기존지문)."
      ]
    },
    {
      "cell_type": "code",
      "execution_count": 62,
      "metadata": {},
      "outputs": [
        {
          "name": "stdout",
          "output_type": "stream",
          "text": [
            "id: 2023_11_KICE_1-3\n",
            "type: 0\n",
            "paragraph: 사람들이 지속적으로 책을 읽는 이유 중 하나는 즐거움이다. 독서의 즐거움에는 여러 가지가 있겠지만 그 중심에는 ‘소통의 즐거움’이 있다.독자는 독서를 통해 책과 소통하는 즐거움을 경험한다. 독서는필자와 간접적으로 대화하는 소통 행위이다. 독자는 자신이 속한사회나 시대의 영향 아래 필자가 속해 있거나 드러내고자 하는 사회나 시대를 경험한다. 직접 경험하지 못했던 다양한 삶을 필자를 매개로 만나고 이해하면서 독자는 더 넓은 시야로 세계를바라볼 수 있다. 이때 같은 책을 읽은 독자라도 독자의 배경지식이나 관점 등의 독자 요인, 읽기 환경이나 과제 등의 상황 요인이 다르므로, 필자가 보여 주는 세계를 그대로 수용하지 않고 저마다 소통 과정에서 다른 의미를 구성할 수 있다.[A] (이러한 소통은 독자가 책의 내용에 대해 질문하고 답을 찾아내는 과정에서 가능해진다. 독자는 책에서 답을 찾는 질문, 독자 자신에게서 답을 찾는 질문 등을 제기할 수 있다. 전자의 경우 책에 명시된 내용에서 답을 발견할 수 있고, 책의 내용들을 관계 지으며 답에 해당하는 내용을 스스로 구성할 수도 있다. 또한 후자의 경우 책에는 없는 독자의 경험에서 답을 찾을 수 있다. 이런 질문들을 풍부히 생성하고 주체적으로 답을 찾을 때 소통의 즐거움은 더 커진다.)한편 독자는 ㉠ (다른 독자와 소통하는 즐거움을 경험할 수도 있다.) 책과의 소통을 통해 개인적으로 형성한 의미를 독서 모임이나 독서 동아리 등에서 다른 독자들과 나누는 일이 이에 해당한다. 비슷한 해석에 서로 공감하며 기존 인식을 강화하거나 관점의 차이를 확인하고 기존 인식을 조정하는 과정에서, 독자는자신의 인식을 심화 확장할 수 있다. 최근 소통 공간이 온라인으로 확대되면서 독서를 통해 다른 독자들과 소통하며 즐거움을누리는 양상이 더 다양해지고 있다. 자신의 독서 경험을 담은 글이나 동영상을 생산 공유함으로써, 책을 읽지 않은 타인이 책과 소통하도록 돕는 것도 책을 통한 소통의 즐거움을 나누는 일이다.\n",
            "question: 윗글의 내용과 일치하지 않는 것은?\n",
            "choices: ['[1] 같은 책을 읽은 독자라도 서로 다른 의미를 구성할 수 있다.', '[2] 다른 독자와의 소통은 독자가 인식의 폭을 확장하도록 돕는다', '[3] 독자는 직접 경험해 보지 못했던 다양한 삶을 책의 필자를 매개로 접할 수 있다.', '[4] 독자의 배경지식, 관점, 읽기 환경, 과제는 독자의 의미 구성에 영향을 주는 독자 요인이다.', '[5] 독자는 책을 읽을 때 자신이 속한 사회나 시대의 영향을 받으며 필자와 간접적으로 대화한다']\n",
            "answer: 4\n",
            "score: 2\n"
          ]
        }
      ],
      "source": [
        "processed_data = []\n",
        "\n",
        "# 데이터 가공\n",
        "for entry in data.kice_data_2023:  # 각 지문(entry)을 순회\n",
        "    for problem in entry[\"problems\"]:  # 각 지문의 문제(problem)를 순회\n",
        "        # 보기 가공\n",
        "        choices = []\n",
        "        for i, choice in enumerate(problem[\"choices\"], start=1):\n",
        "            choices.append(f\"[{i}] {choice}\")\n",
        "\n",
        "        processed_entry = {\n",
        "            \"id\": entry[\"id\"],\n",
        "            \"type\": entry[\"type\"],\n",
        "            \"paragraph\": entry[\"paragraph\"],\n",
        "            \"question\": problem[\"question\"],\n",
        "            \"choices\": choices,\n",
        "            \"answer\": problem[\"answer\"],\n",
        "            \"score\": problem[\"score\"],\n",
        "        }\n",
        "\n",
        "        # 결과 리스트에 추가\n",
        "        processed_data.append(processed_entry)\n",
        "\n",
        "# 출력\n",
        "for key, value in processed_data[0].items():\n",
        "    print(f\"{key}: {value}\")\n"
      ]
    },
    {
      "cell_type": "markdown",
      "metadata": {},
      "source": [
        "# [MY CODE] 프롬프트 생성 함수\n",
        "- 각 전략에 맞게 프롬프트를 생성하는 함수입니다.\n",
        "\n",
        "1. [solve] number [/solve] 로 요구한다. \n",
        "    - (예를 들어 [solve] 3 [/solve])\n",
        "\n",
        "2. 문제당 두 번의 문제 풀이를 독립적으로 진행한다.\n",
        "    - 한 번은 zero-shot-CoT, 또 한 번은 plan-and-solve 를 적용하여 논리적 추론을 유도한다."
      ]
    },
    {
      "cell_type": "code",
      "execution_count": 64,
      "metadata": {},
      "outputs": [],
      "source": [
        "def create_prompt(paragraph, question, choices, strategy): # 문제, 지문, 보기, 전략\n",
        "    \n",
        "    # 수능 문제 + 지문 + 보기\n",
        "    common_prompt = (\n",
        "        f\"Given the following passage:\\n\\n{paragraph}\\n\\n\"\n",
        "        f\"Question: {question}\\n\\n\"\n",
        "        f\"Choices:\\n\" + \"\\n\".join([f\"[{i+1}] {choice}\" for i, choice in enumerate(choices)])\n",
        "    )\n",
        "\n",
        "    # 전략별 프롬프트\n",
        "    if strategy == \"cot\":\n",
        "        return (\n",
        "            common_prompt\n",
        "            + \"\\n\\n추론 과정:\\n\"\n",
        "            \"Please provide a detailed, step-by-step reasoning process for your answer.\\n\\n\"\n",
        "            \"정답 도출:\\n\"\n",
        "            \"Provide the final answer in the format [solve]number[/solve]. (for example, [solve]1[/solve])\"\n",
        "        )\n",
        "    elif strategy == \"plan\":\n",
        "        return (\n",
        "            common_prompt\n",
        "            + \"\\n\\nPlan:\\n\"\n",
        "            \"First, provide a short plan to approach this question.\\n\\n\"\n",
        "            \"Solve:\\n\"\n",
        "            \"Based on the plan, provide the final answer in the format [solve]number[/solve]. (for example, [solve]1[/solve])\"\n",
        "        )\n"
      ]
    },
    {
      "cell_type": "markdown",
      "metadata": {},
      "source": [
        "# [MY CODE] 정답 파싱함수\n",
        "- 정답을 파싱하는 함수입니다."
      ]
    },
    {
      "cell_type": "code",
      "execution_count": 65,
      "metadata": {},
      "outputs": [],
      "source": [
        "# 정답 파싱\n",
        "def extract_answer(response):\n",
        "    import re\n",
        "    if not response:\n",
        "        return None\n",
        "    match = re.search(r\"[solve](\\d)[/solve]\", response)\n",
        "    return int(match.group(1)) if match else None"
      ]
    },
    {
      "cell_type": "markdown",
      "metadata": {},
      "source": [
        "# [MY CODE] OpenAI API 콜 함수"
      ]
    },
    {
      "cell_type": "code",
      "execution_count": 66,
      "metadata": {},
      "outputs": [],
      "source": [
        "from openai import OpenAI\n",
        "\n",
        "client = OpenAI(api_key=\"...\")\n",
        "\n",
        "def call_openai_api(prompt, role):\n",
        "    try:\n",
        "        response = client.chat.completions.create(\n",
        "            model=\"gpt-4o\",\n",
        "            messages=[\n",
        "                {\"role\": \"system\", \"content\": role},\n",
        "                {\"role\": \"user\", \"content\": prompt},\n",
        "            ],\n",
        "            n=1,\n",
        "            max_tokens=1024, # 출력 토큰 수는 1024로 제한\n",
        "            temperature=0.3,\n",
        "        )\n",
        "\n",
        "        # 메시지 content만 추출\n",
        "        return response.choices[0].message[\"content\"].strip()\n",
        "    except Exception as e:\n",
        "        print(f\"API call failed: {e}\")\n",
        "        return None"
      ]
    },
    {
      "cell_type": "markdown",
      "metadata": {},
      "source": [
        "# [MY CODE] 문제풀이 함수 (prediction 함수)\n",
        "\n",
        "1. 한 문제당 두 번의 풀이 + (optional) 추가 풀이를 진행합니다.\n",
        "    - 한 번은 zero-shot-CoT, 또 한 번은 plan-and-solve 를 적용하여 논리적 추론을 유도한다.\n",
        "    - CoT 와 plan-and-solve에서 최종 도출한 정답이 동일할 경우 이를 최종 정답으로 간주한다.\n",
        "    - 각 정답이 다를 경우, 추론 기록을 참고하여 마지막 결정을 하는 추가 문제 풀이를 한다.\n",
        "\n",
        "2. 채점 방식\n",
        "    - 문제 풀이마다 즉시 채점을 한다. 오답일 경우에 감점(minus) 변수에 가점한다. 마지막에 100 - minus 으로 최종 점수를 도출한다.\n",
        "    - 복기를 위해, 오답일 경우 wrong_solves 리스트에 question, solve (모델 답변), answer (실제 정답), score를 저장한다."
      ]
    },
    {
      "cell_type": "code",
      "execution_count": 67,
      "metadata": {},
      "outputs": [],
      "source": [
        "# GPT-4o 예측 함수\n",
        "def prediction(problem):\n",
        "    \"\"\"\n",
        "    문제를 JSON 형식으로 받아 GPT-4o를 통해 정답을 예측하는 함수.\n",
        "    문제 풀이는 Zero-shot-CoT 및 Plan-and-solve 방식을 사용.\n",
        "    \"\"\"\n",
        "    question = problem[\"question\"]\n",
        "    choices = problem[\"choices\"]\n",
        "    answer = problem[\"answer\"]  # 실제 정답 (채점에 사용)\n",
        "\n",
        "    # 프롬프트 - 문제 지문\n",
        "    paragraph = problem.get(\"paragraph\", \"No paragraph provided.\")\n",
        "\n",
        "    # 프롬프트 - role 정의\n",
        "    assistant_role = \"You are a highly experienced educator specializing in Korean language and literature, with extensive knowledge of the Korean College Scholastic Ability Test (CSAT). Your expertise includes analyzing and solving high school-level Korean questions in areas such as literature, nonfiction, and writing.\"\n",
        "    \n",
        "    # 프롬프트 - zero-shot-cot 전략\n",
        "    user_prompt_cot = create_prompt(paragraph, question, choices, \"cot\")\n",
        "\n",
        "    # 프롬프트 - plan-and-solve 전략\n",
        "    user_prompt_plan = create_prompt(paragraph, question, choices, \"plan\")\n",
        "\n",
        "    # OpenAI API 요청\n",
        "    cot_result = call_openai_api(user_prompt_cot, assistant_role)\n",
        "    plan_result = call_openai_api(user_prompt_plan, assistant_role)\n",
        "\n",
        "    # 정답만 추출\n",
        "    cot_answer = extract_answer(cot_result)\n",
        "    plan_answer = extract_answer(plan_result)\n",
        "\n",
        "    # 결과 처리\n",
        "    if cot_answer == plan_answer:\n",
        "        final_answer = cot_answer\n",
        "    else:\n",
        "        # 추가 풀이 요청 (모델 간 도출한 답 불일치 시)\n",
        "        additional_prompt = (\n",
        "            f\"Previous answers were not unanimous.\\n\\n\"\n",
        "            f\"Passage: {paragraph}\\n\\n\"\n",
        "            f\"Question: {question}\\n\\n\"\n",
        "            f\"Choices:\\n\"\n",
        "            + \"\\n\".join([f\"[{i+1}] {choice}\" for i, choice in enumerate(choices)])\n",
        "            + \"\\n\\n\"\n",
        "            \"Earlier reasoning:\\n\"\n",
        "            f\"Chain of Thought reasoning:\\n{cot_result}\\n\\n\"\n",
        "            f\"Plan-and-Solve reasoning:\\n{plan_result}\\n\\n\"\n",
        "            \"Updated reasoning:\\n\"\n",
        "            \"Please reconsider the previous reasoning and provide a detailed explanation for your final answer.\\n\\n\"\n",
        "            \"Final answer:\\n\"\n",
        "            \"Provide the final answer in the format <solve>number</solve>.\"\n",
        "        )\n",
        "\n",
        "        additional_response = client.chat.completions.create(\n",
        "            model=\"gpt-4\",\n",
        "            messages=[\n",
        "                {\"role\": \"system\", \"content\": assistant_role},\n",
        "                {\"role\": \"user\", \"content\": additional_prompt},\n",
        "            ],\n",
        "            n=1,\n",
        "            max_tokens=1024,\n",
        "            temperature=0.3,\n",
        "        )\n",
        "        final_answer = extract_answer(additional_response.choices[0].message[\"content\"])\n",
        "\n",
        "    # 채점\n",
        "    correct = final_answer == answer\n",
        "    return {\n",
        "        \"question\": question,\n",
        "        \"choices\": choices,\n",
        "        \"model_answer\": final_answer,\n",
        "        \"correct_answer\": answer,\n",
        "        \"score\": problem[\"score\"],\n",
        "        \"correct\": correct,\n",
        "    }\n",
        "\n"
      ]
    },
    {
      "cell_type": "markdown",
      "metadata": {},
      "source": [
        "# [MY CODE] 문제풀이 실행 및 평가 함수 (evaluate)"
      ]
    },
    {
      "cell_type": "code",
      "execution_count": null,
      "metadata": {},
      "outputs": [],
      "source": [
        "# 전체 데이터 처리 및 점수 계산\n",
        "def evaluate_model(problems):\n",
        "    results = []\n",
        "    total_score = 0\n",
        "    minus_score = 0\n",
        "\n",
        "    for problem in problems:\n",
        "        result = prediction(problem)\n",
        "        results.append(result)\n",
        "        if result[\"correct\"]:\n",
        "            total_score += result[\"score\"]\n",
        "        else:\n",
        "            minus_score += result[\"score\"]\n",
        "\n",
        "    # 최종 점수\n",
        "    return {\"results\": results, \"total_score\": total_score}\n",
        "\n",
        "\n",
        "# 평가 실행\n",
        "problems = processed_data\n",
        "evaluation = evaluate_model(problems)\n",
        "print(evaluation)"
      ]
    }
  ],
  "metadata": {
    "colab": {
      "provenance": []
    },
    "kernelspec": {
      "display_name": "first-dl-kernel",
      "language": "python",
      "name": "first-dl-env"
    },
    "language_info": {
      "codemirror_mode": {
        "name": "ipython",
        "version": 3
      },
      "file_extension": ".py",
      "mimetype": "text/x-python",
      "name": "python",
      "nbconvert_exporter": "python",
      "pygments_lexer": "ipython3",
      "version": "3.8.20"
    }
  },
  "nbformat": 4,
  "nbformat_minor": 0
}
